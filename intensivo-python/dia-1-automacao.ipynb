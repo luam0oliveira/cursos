{
 "cells": [
  {
   "cell_type": "code",
   "execution_count": 61,
   "id": "89a57b46",
   "metadata": {},
   "outputs": [
    {
     "name": "stdout",
     "output_type": "stream",
     "text": [
      "Requirement already satisfied: pyautogui in c:\\programdata\\anaconda3\\lib\\site-packages (0.9.53)\n",
      "Requirement already satisfied: pymsgbox in c:\\programdata\\anaconda3\\lib\\site-packages (from pyautogui) (1.0.9)\n",
      "Requirement already satisfied: pygetwindow>=0.0.5 in c:\\programdata\\anaconda3\\lib\\site-packages (from pyautogui) (0.0.9)\n",
      "Requirement already satisfied: PyTweening>=1.0.1 in c:\\programdata\\anaconda3\\lib\\site-packages (from pyautogui) (1.0.4)\n",
      "Requirement already satisfied: mouseinfo in c:\\programdata\\anaconda3\\lib\\site-packages (from pyautogui) (0.1.3)\n",
      "Requirement already satisfied: pyscreeze>=0.1.21 in c:\\programdata\\anaconda3\\lib\\site-packages (from pyautogui) (0.1.28)\n",
      "Requirement already satisfied: pyrect in c:\\programdata\\anaconda3\\lib\\site-packages (from pygetwindow>=0.0.5->pyautogui) (0.1.4)\n",
      "Requirement already satisfied: pyperclip in c:\\programdata\\anaconda3\\lib\\site-packages (from mouseinfo->pyautogui) (1.8.2)\n",
      "Requirement already satisfied: pyperclip in c:\\programdata\\anaconda3\\lib\\site-packages (1.8.2)\n",
      "Requirement already satisfied: pandas in c:\\programdata\\anaconda3\\lib\\site-packages (1.3.4)\n",
      "Requirement already satisfied: python-dateutil>=2.7.3 in c:\\programdata\\anaconda3\\lib\\site-packages (from pandas) (2.8.2)\n",
      "Requirement already satisfied: numpy>=1.17.3 in c:\\programdata\\anaconda3\\lib\\site-packages (from pandas) (1.20.3)\n",
      "Requirement already satisfied: pytz>=2017.3 in c:\\programdata\\anaconda3\\lib\\site-packages (from pandas) (2021.3)\n",
      "Requirement already satisfied: six>=1.5 in c:\\programdata\\anaconda3\\lib\\site-packages (from python-dateutil>=2.7.3->pandas) (1.16.0)\n"
     ]
    }
   ],
   "source": [
    "!pip install pyautogui\n",
    "!pip install pyperclip\n",
    "!pip install pandas"
   ]
  },
  {
   "cell_type": "code",
   "execution_count": 62,
   "id": "7376cda0",
   "metadata": {},
   "outputs": [],
   "source": [
    "# Bibliotecas\n",
    "import pyautogui\n",
    "import pyperclip\n",
    "import pandas as pd\n",
    "import time \n",
    "\n",
    "pyautogui.PAUSE = 0.02"
   ]
  },
  {
   "cell_type": "code",
   "execution_count": 63,
   "id": "da71158b",
   "metadata": {},
   "outputs": [],
   "source": [
    "# Passo a passo para resolução do problema:\n",
    "# Passo 1: Entrar no sistema\n",
    "pyautogui.hotkey('ctrl','t')\n",
    "pyautogui.write('https://drive.google.com/drive/folders/149xknr9JvrlEnhNWO49zPcw0PW5icxga')\n",
    "pyautogui.press('enter')\n",
    "\n",
    "# Carregamento de sistema\n",
    "time.sleep(5)\n",
    "\n",
    "# Passo 2: Navegar até a base de dados\n",
    "pyautogui.click(x=385, y=282, clicks=2)\n",
    "time.sleep(5)\n",
    "\n",
    "# Passo 3: Importar a base de dados\n",
    "pyautogui.click(x=385, y=338, button='right')\n",
    "time.sleep(2)\n",
    "pyautogui.click(x=466, y=631)"
   ]
  },
  {
   "cell_type": "code",
   "execution_count": 64,
   "id": "9b1800ae",
   "metadata": {},
   "outputs": [],
   "source": [
    "# Passo 4: Importar os dados da base de dados\n",
    "db_faturamento = pd.read_excel(r'c:\\users\\reitoria\\Downloads\\Vendas - Dez.xlsx')\n",
    "\n",
    "# Passo 5: Calcular os indicadores\n",
    "faturamento = db_faturamento['Valor Final'].sum()\n",
    "qntd_produtos = db_faturamento['Quantidade'].sum()"
   ]
  },
  {
   "cell_type": "code",
   "execution_count": 65,
   "id": "1bce5c7c",
   "metadata": {},
   "outputs": [],
   "source": [
    "conteudo_email = \"\"\" Boa tarde, Luam,\n",
    "\n",
    "Aqui está os principais dados do relatório que pediu\n",
    "Faturamento: R$ {},00\n",
    "Quantidade de produtos: R$ {},00\n",
    "\n",
    "\"\"\".format(faturamento,qntd_produtos)\n",
    "\n",
    "# Passo 6: Enviar o email com os indicadores\n",
    "# Redirecionamento\n",
    "pyautogui.hotkey('ctrl','t')\n",
    "time.sleep(2)\n",
    "pyautogui.write('gmail.com')\n",
    "pyautogui.press('enter')\n",
    "time.sleep(5)\n",
    "\n",
    "# Abrir para escrita de um novo email\n",
    "pyautogui.click(x=104, y=186)\n",
    "time.sleep(3)\n",
    "\n",
    "# Definir destinatário\n",
    "pyautogui.write('luamoliveira.videira@gmail.com')\n",
    "pyautogui.press('tab', presses=2)\n",
    "\n",
    "# Definir Assunto\n",
    "pyautogui.write('Curso de Python')\n",
    "pyautogui.press('tab')\n",
    "time.sleep(1)\n",
    "\n",
    "# Definir corpo de email\n",
    "pyperclip.copy(conteudo_email)\n",
    "time.sleep(1)\n",
    "pyautogui.hotkey('ctrl','v')\n",
    "\n",
    "# Enviar email\n",
    "pyautogui.hotkey('ctrl','enter')\n"
   ]
  },
  {
   "cell_type": "code",
   "execution_count": 50,
   "id": "8c7950cd",
   "metadata": {},
   "outputs": [
    {
     "data": {
      "text/plain": [
       "Point(x=104, y=186)"
      ]
     },
     "execution_count": 50,
     "metadata": {},
     "output_type": "execute_result"
    }
   ],
   "source": []
  }
 ],
 "metadata": {
  "kernelspec": {
   "display_name": "Python 3 (ipykernel)",
   "language": "python",
   "name": "python3"
  },
  "language_info": {
   "codemirror_mode": {
    "name": "ipython",
    "version": 3
   },
   "file_extension": ".py",
   "mimetype": "text/x-python",
   "name": "python",
   "nbconvert_exporter": "python",
   "pygments_lexer": "ipython3",
   "version": "3.9.7"
  }
 },
 "nbformat": 4,
 "nbformat_minor": 5
}
